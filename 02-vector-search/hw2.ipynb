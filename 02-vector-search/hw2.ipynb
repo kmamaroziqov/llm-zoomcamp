{
 "cells": [
  {
   "cell_type": "code",
   "execution_count": 1,
   "id": "e793f9bd-6177-4c35-924d-ee8f680d9560",
   "metadata": {},
   "outputs": [],
   "source": [
    "from fastembed import TextEmbedding\n",
    "from qdrant_client import QdrantClient, models\n",
    "import numpy as np"
   ]
  },
  {
   "cell_type": "code",
   "execution_count": 2,
   "id": "7b7fa109-3bf5-4384-aceb-1d9402f3117a",
   "metadata": {},
   "outputs": [],
   "source": [
    "client=QdrantClient('http://localhost:6333')"
   ]
  },
  {
   "cell_type": "code",
   "execution_count": 3,
   "id": "8bc505ad-8743-45d1-bb31-9cdbfe53a682",
   "metadata": {},
   "outputs": [],
   "source": [
    "EMBEDDING_MODEL='jinaai/jina-embeddings-v2-small-en'\n",
    "query='I just discovered the course. Can I join now?'"
   ]
  },
  {
   "cell_type": "markdown",
   "id": "0b97873d-54d9-486c-bc8e-4371bccc5f31",
   "metadata": {},
   "source": [
    "### Q1. Embedding the query"
   ]
  },
  {
   "cell_type": "code",
   "execution_count": 17,
   "id": "4a88a5a5-e85d-44dc-89df-9c6464e390da",
   "metadata": {},
   "outputs": [
    {
     "name": "stdout",
     "output_type": "stream",
     "text": [
      "-0.11726373885183883\n"
     ]
    }
   ],
   "source": [
    "embedding_model = TextEmbedding(model_name=EMBEDDING_MODEL)\n",
    "query_embedding = np.array(list(embedding_model.embed(query))[0])\n",
    "print(np.min(embedding1))"
   ]
  },
  {
   "cell_type": "code",
   "execution_count": 7,
   "id": "90985a64-d3d7-4866-a0bc-cd5cb19a6adc",
   "metadata": {},
   "outputs": [
    {
     "data": {
      "text/plain": [
       "np.float64(1.0)"
      ]
     },
     "execution_count": 7,
     "metadata": {},
     "output_type": "execute_result"
    }
   ],
   "source": [
    "np.linalg.norm(embedding1)"
   ]
  },
  {
   "cell_type": "code",
   "execution_count": 9,
   "id": "6f97311b-126a-4ac3-aa88-ff8e0756ae98",
   "metadata": {},
   "outputs": [
    {
     "data": {
      "text/plain": [
       "np.float64(1.0000000000000002)"
      ]
     },
     "execution_count": 9,
     "metadata": {},
     "output_type": "execute_result"
    }
   ],
   "source": [
    "q = np.array(embedding1)\n",
    "q = q.flatten()\n",
    "q.dot(q)"
   ]
  },
  {
   "cell_type": "markdown",
   "id": "f3664a9f-e762-4f82-9fcc-e6e6749efd14",
   "metadata": {},
   "source": [
    "### Q2. Cosine similarity with another vector"
   ]
  },
  {
   "cell_type": "code",
   "execution_count": 11,
   "id": "de8ec5e8-12ed-4698-b26d-cd2c2e535dda",
   "metadata": {},
   "outputs": [],
   "source": [
    "doc = 'Can I still join the course after the start date?'\n",
    "embedding_model = TextEmbedding(model_name=EMBEDDING_MODEL)\n",
    "embedding2 = np.array(list(embedding_model.embed([doc]))[0])"
   ]
  },
  {
   "cell_type": "code",
   "execution_count": 13,
   "id": "60646c50-24c8-42d6-8fe6-91d5d86add76",
   "metadata": {},
   "outputs": [
    {
     "data": {
      "text/plain": [
       "np.float64(0.9008528895674548)"
      ]
     },
     "execution_count": 13,
     "metadata": {},
     "output_type": "execute_result"
    }
   ],
   "source": [
    "np.dot(embedding1,embedding2)"
   ]
  },
  {
   "cell_type": "markdown",
   "id": "89a92613-3823-42f1-b329-e7f73e7a1530",
   "metadata": {},
   "source": [
    "### Q3. Ranking by cosine"
   ]
  },
  {
   "cell_type": "code",
   "execution_count": 14,
   "id": "2b9d19a0-2933-44b3-999b-c673c024a9a6",
   "metadata": {},
   "outputs": [],
   "source": [
    "documents = [{'text': \"Yes, even if you don't register, you're still eligible to submit the homeworks.\\nBe aware, however, that there will be deadlines for turning in the final projects. So don't leave everything for the last minute.\",\n",
    "  'section': 'General course-related questions',\n",
    "  'question': 'Course - Can I still join the course after the start date?',\n",
    "  'course': 'data-engineering-zoomcamp'},\n",
    " {'text': 'Yes, we will keep all the materials after the course finishes, so you can follow the course at your own pace after it finishes.\\nYou can also continue looking at the homeworks and continue preparing for the next cohort. I guess you can also start working on your final capstone project.',\n",
    "  'section': 'General course-related questions',\n",
    "  'question': 'Course - Can I follow the course after it finishes?',\n",
    "  'course': 'data-engineering-zoomcamp'},\n",
    " {'text': \"The purpose of this document is to capture frequently asked technical questions\\nThe exact day and hour of the course will be 15th Jan 2024 at 17h00. The course will start with the first  “Office Hours'' live.1\\nSubscribe to course public Google Calendar (it works from Desktop only).\\nRegister before the course starts using this link.\\nJoin the course Telegram channel with announcements.\\nDon’t forget to register in DataTalks.Club's Slack and join the channel.\",\n",
    "  'section': 'General course-related questions',\n",
    "  'question': 'Course - When will the course start?',\n",
    "  'course': 'data-engineering-zoomcamp'},\n",
    " {'text': 'You can start by installing and setting up all the dependencies and requirements:\\nGoogle cloud account\\nGoogle Cloud SDK\\nPython 3 (installed with Anaconda)\\nTerraform\\nGit\\nLook over the prerequisites and syllabus to see if you are comfortable with these subjects.',\n",
    "  'section': 'General course-related questions',\n",
    "  'question': 'Course - What can I do before the course starts?',\n",
    "  'course': 'data-engineering-zoomcamp'},\n",
    " {'text': 'Star the repo! Share it with friends if you find it useful ❣️\\nCreate a PR if you see you can improve the text or the structure of the repository.',\n",
    "  'section': 'General course-related questions',\n",
    "  'question': 'How can we contribute to the course?',\n",
    "  'course': 'data-engineering-zoomcamp'}]"
   ]
  },
  {
   "cell_type": "code",
   "execution_count": 15,
   "id": "a8a66e92-46cb-46ed-8274-f03e0d263c84",
   "metadata": {},
   "outputs": [],
   "source": [
    "docs = [doc['text'] for doc in documents]"
   ]
  },
  {
   "cell_type": "code",
   "execution_count": 16,
   "id": "428ffe19-9e26-459d-b3d5-f6a8afa3617c",
   "metadata": {},
   "outputs": [],
   "source": [
    "doc_embeddings = np.array(list(embedding_model.embed(docs)))"
   ]
  },
  {
   "cell_type": "code",
   "execution_count": 19,
   "id": "91e90329-b38f-447c-8f62-3d95ec7c369b",
   "metadata": {},
   "outputs": [
    {
     "data": {
      "text/plain": [
       "np.int64(1)"
      ]
     },
     "execution_count": 19,
     "metadata": {},
     "output_type": "execute_result"
    }
   ],
   "source": [
    "cosine_similarities = doc_embeddings.dot(query_embedding)\n",
    "max_similarity_index = np.argmax(cosine_similarities)\n",
    "max_similarity_index"
   ]
  },
  {
   "cell_type": "markdown",
   "id": "0b4a8b1b-8b5f-411c-967c-8eef76a7843c",
   "metadata": {},
   "source": [
    "### Q4. Ranking by cosine, version two"
   ]
  },
  {
   "cell_type": "code",
   "execution_count": 23,
   "id": "cb5e9f75-e218-4c84-8245-e6ab32cdfd84",
   "metadata": {},
   "outputs": [
    {
     "data": {
      "text/plain": [
       "np.int64(0)"
      ]
     },
     "execution_count": 23,
     "metadata": {},
     "output_type": "execute_result"
    }
   ],
   "source": [
    "full_texts = [doc['question'] + ' ' + doc['text'] for doc in documents]\n",
    "texts_embedding = np.array(list(embedding_model.embed(full_texts)))\n",
    "cosine_sim = texts_embedding.dot(query_embedding)\n",
    "max_sim = np.argmax(cosine_sim)\n",
    "max_sim"
   ]
  },
  {
   "cell_type": "markdown",
   "id": "149c61ff-d598-4c52-8d6e-6ed5ab74bc0b",
   "metadata": {},
   "source": [
    "### Q5. Selecting the embedding model"
   ]
  },
  {
   "cell_type": "code",
   "execution_count": 25,
   "id": "f4d360d6-3101-47d1-a38f-b5bc832cf82d",
   "metadata": {},
   "outputs": [
    {
     "data": {
      "text/plain": [
       "384"
      ]
     },
     "execution_count": 25,
     "metadata": {},
     "output_type": "execute_result"
    }
   ],
   "source": [
    "dimensions = [model['dim'] for model in TextEmbedding.list_supported_models()]\n",
    "min(dimensions)"
   ]
  },
  {
   "cell_type": "code",
   "execution_count": 26,
   "id": "ce2fca90-0631-43ab-be8d-b91eb6774d19",
   "metadata": {},
   "outputs": [],
   "source": [
    "model = 'BAAI/bge-small-en'"
   ]
  },
  {
   "cell_type": "markdown",
   "id": "42520d4a-1488-4414-ba67-aaf288d07fe7",
   "metadata": {},
   "source": [
    "### Q6. Indexing with qdrant (2 points)\n"
   ]
  },
  {
   "cell_type": "code",
   "execution_count": 27,
   "id": "091b1f75-ae0a-4621-842e-7065e9ad7fe7",
   "metadata": {},
   "outputs": [],
   "source": [
    "import requests \n",
    "\n",
    "docs_url = 'https://github.com/alexeygrigorev/llm-rag-workshop/raw/main/notebooks/documents.json'\n",
    "docs_response = requests.get(docs_url)\n",
    "documents_raw = docs_response.json()\n",
    "\n",
    "\n",
    "documents = []\n",
    "\n",
    "for course in documents_raw:\n",
    "    course_name = course['course']\n",
    "    if course_name != 'machine-learning-zoomcamp':\n",
    "        continue\n",
    "\n",
    "    for doc in course['documents']:\n",
    "        doc['course'] = course_name\n",
    "        documents.append(doc)"
   ]
  },
  {
   "cell_type": "code",
   "execution_count": 31,
   "id": "51dd9759-8506-4b09-b72a-a7eb20a7f6de",
   "metadata": {},
   "outputs": [
    {
     "data": {
      "text/plain": [
       "True"
      ]
     },
     "execution_count": 31,
     "metadata": {},
     "output_type": "execute_result"
    }
   ],
   "source": [
    "collection_name='zoomcamp-hw2'\n",
    "EMBEDDING_DIMENSIONALITY=384\n",
    "client.create_collection(\n",
    "    collection_name=collection_name,\n",
    "    vectors_config=models.VectorParams(\n",
    "        size=EMBEDDING_DIMENSIONALITY,\n",
    "        distance=models.Distance.COSINE\n",
    "    )\n",
    ")"
   ]
  },
  {
   "cell_type": "code",
   "execution_count": 35,
   "id": "084cfe56-4cf1-469d-9b21-d84f43d9d535",
   "metadata": {},
   "outputs": [],
   "source": [
    "points=[]\n",
    "\n",
    "for i, doc in enumerate(documents):\n",
    "    text=doc['question']+' '+doc['text']\n",
    "    vector=models.Document(text=text, model=model)\n",
    "    point = models.PointStruct(\n",
    "        id=i,\n",
    "        vector=vector,\n",
    "        payload=doc\n",
    "    )\n",
    "    points.append(point)"
   ]
  },
  {
   "cell_type": "code",
   "execution_count": 36,
   "id": "024e6228-3513-4eab-98b4-9973f2a342e7",
   "metadata": {},
   "outputs": [
    {
     "data": {
      "application/vnd.jupyter.widget-view+json": {
       "model_id": "22f453a8bf4f4eb9bf09412e3904c754",
       "version_major": 2,
       "version_minor": 0
      },
      "text/plain": [
       "Fetching 5 files:   0%|          | 0/5 [00:00<?, ?it/s]"
      ]
     },
     "metadata": {},
     "output_type": "display_data"
    },
    {
     "data": {
      "application/vnd.jupyter.widget-view+json": {
       "model_id": "80156c7e2036420caee474721867ecc0",
       "version_major": 2,
       "version_minor": 0
      },
      "text/plain": [
       "config.json:   0%|          | 0.00/701 [00:00<?, ?B/s]"
      ]
     },
     "metadata": {},
     "output_type": "display_data"
    },
    {
     "data": {
      "application/vnd.jupyter.widget-view+json": {
       "model_id": "d73a41fed79e499e84670a89adb9c86b",
       "version_major": 2,
       "version_minor": 0
      },
      "text/plain": [
       "tokenizer.json: 0.00B [00:00, ?B/s]"
      ]
     },
     "metadata": {},
     "output_type": "display_data"
    },
    {
     "data": {
      "application/vnd.jupyter.widget-view+json": {
       "model_id": "a573ee91c1b14a2ca1a76645aa40a7fd",
       "version_major": 2,
       "version_minor": 0
      },
      "text/plain": [
       "tokenizer_config.json:   0%|          | 0.00/366 [00:00<?, ?B/s]"
      ]
     },
     "metadata": {},
     "output_type": "display_data"
    },
    {
     "data": {
      "application/vnd.jupyter.widget-view+json": {
       "model_id": "2d231b7822c14432b68c1a4ef3497b28",
       "version_major": 2,
       "version_minor": 0
      },
      "text/plain": [
       "special_tokens_map.json:   0%|          | 0.00/125 [00:00<?, ?B/s]"
      ]
     },
     "metadata": {},
     "output_type": "display_data"
    },
    {
     "data": {
      "application/vnd.jupyter.widget-view+json": {
       "model_id": "76bdee3abb7c4a6aaf29a54b071b194b",
       "version_major": 2,
       "version_minor": 0
      },
      "text/plain": [
       "model_optimized.onnx:   0%|          | 0.00/133M [00:00<?, ?B/s]"
      ]
     },
     "metadata": {},
     "output_type": "display_data"
    },
    {
     "data": {
      "text/plain": [
       "UpdateResult(operation_id=1, status=<UpdateStatus.COMPLETED: 'completed'>)"
      ]
     },
     "execution_count": 36,
     "metadata": {},
     "output_type": "execute_result"
    }
   ],
   "source": [
    "client.upsert(\n",
    "    collection_name=collection_name,\n",
    "    points=points\n",
    ")"
   ]
  },
  {
   "cell_type": "code",
   "execution_count": 46,
   "id": "0f658df7-609b-44c2-a25c-44e1e29163f6",
   "metadata": {},
   "outputs": [
    {
     "data": {
      "text/plain": [
       "0.8703172"
      ]
     },
     "execution_count": 46,
     "metadata": {},
     "output_type": "execute_result"
    }
   ],
   "source": [
    "result = client.query_points(\n",
    "             collection_name=collection_name,\n",
    "             query=models.Document(\n",
    "                 text=query,\n",
    "                 model=model\n",
    "             ),\n",
    "             limit=5,\n",
    "             with_payload=True\n",
    "         )\n",
    "result.points[0].score"
   ]
  }
 ],
 "metadata": {
  "kernelspec": {
   "display_name": "Python 3 (ipykernel)",
   "language": "python",
   "name": "python3"
  },
  "language_info": {
   "codemirror_mode": {
    "name": "ipython",
    "version": 3
   },
   "file_extension": ".py",
   "mimetype": "text/x-python",
   "name": "python",
   "nbconvert_exporter": "python",
   "pygments_lexer": "ipython3",
   "version": "3.12.9"
  }
 },
 "nbformat": 4,
 "nbformat_minor": 5
}
