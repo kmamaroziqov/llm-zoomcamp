{
 "cells": [
  {
   "cell_type": "code",
   "execution_count": 17,
   "id": "4b42abfa-0574-4a46-ae00-512ef4d97d72",
   "metadata": {},
   "outputs": [],
   "source": [
    "import minsearch"
   ]
  },
  {
   "cell_type": "code",
   "execution_count": 18,
   "id": "deee1c9c-d575-422b-ba04-b1fd341ed1a3",
   "metadata": {},
   "outputs": [],
   "source": [
    "import json"
   ]
  },
  {
   "cell_type": "code",
   "execution_count": 19,
   "id": "a4ec8f75-dfd3-4d9c-aa9d-7587a12dfa41",
   "metadata": {},
   "outputs": [],
   "source": [
    "with open('documents.json','rt') as f_in:\n",
    "    docs_raw=json.load(f_in)"
   ]
  },
  {
   "cell_type": "code",
   "execution_count": 20,
   "id": "5c8461b9-c1f5-467e-86c8-ed65531b5794",
   "metadata": {},
   "outputs": [],
   "source": [
    "documents=[]\n",
    "for course_dict in docs_raw:\n",
    "    for doc in course_dict['documents']:\n",
    "        doc['course']=course_dict['course']\n",
    "        documents.append(doc)"
   ]
  },
  {
   "cell_type": "code",
   "execution_count": 21,
   "id": "674a0599-3487-4564-bc4c-9677e5a8ba35",
   "metadata": {},
   "outputs": [],
   "source": [
    "index = minsearch.Index(\n",
    "    text_fields=['question','text','section'],\n",
    "    keyword_fields=['course']\n",
    ")"
   ]
  },
  {
   "cell_type": "code",
   "execution_count": 22,
   "id": "5a5c57e0-0802-4958-abd1-bde3f45d7a46",
   "metadata": {},
   "outputs": [],
   "source": [
    "q=\"course already started, can i still join?\""
   ]
  },
  {
   "cell_type": "code",
   "execution_count": 23,
   "id": "1895b5fe-f7ef-448e-93fc-d15ab602fd52",
   "metadata": {},
   "outputs": [
    {
     "data": {
      "text/plain": [
       "<minsearch.Index at 0x7d5b303cfef0>"
      ]
     },
     "execution_count": 23,
     "metadata": {},
     "output_type": "execute_result"
    }
   ],
   "source": [
    "index.fit(documents)"
   ]
  },
  {
   "cell_type": "code",
   "execution_count": 20,
   "id": "7ec4159f-c3a0-48f1-b719-99f5147f2fe9",
   "metadata": {},
   "outputs": [],
   "source": [
    "boost={'question':3, 'section':0.5}\n",
    "\n",
    "results=index.search(\n",
    "    query=q,\n",
    "    boost_dict=boost,\n",
    "    num_results=5,\n",
    "    filter_dict={'course':'data-engineering-zoomcamp'}\n",
    ")"
   ]
  },
  {
   "cell_type": "code",
   "execution_count": 21,
   "id": "8ec3483e-df14-40cb-b034-7361bf8db62a",
   "metadata": {},
   "outputs": [
    {
     "data": {
      "text/plain": [
       "[{'text': \"Yes, even if you don't register, you're still eligible to submit the homeworks.\\nBe aware, however, that there will be deadlines for turning in the final projects. So don't leave everything for the last minute.\",\n",
       "  'section': 'General course-related questions',\n",
       "  'question': 'Course - Can I still join the course after the start date?',\n",
       "  'course': 'data-engineering-zoomcamp'},\n",
       " {'text': \"The purpose of this document is to capture frequently asked technical questions\\nThe exact day and hour of the course will be 15th Jan 2024 at 17h00. The course will start with the first  “Office Hours'' live.1\\nSubscribe to course public Google Calendar (it works from Desktop only).\\nRegister before the course starts using this link.\\nJoin the course Telegram channel with announcements.\\nDon’t forget to register in DataTalks.Club's Slack and join the channel.\",\n",
       "  'section': 'General course-related questions',\n",
       "  'question': 'Course - When will the course start?',\n",
       "  'course': 'data-engineering-zoomcamp'},\n",
       " {'text': 'Yes, we will keep all the materials after the course finishes, so you can follow the course at your own pace after it finishes.\\nYou can also continue looking at the homeworks and continue preparing for the next cohort. I guess you can also start working on your final capstone project.',\n",
       "  'section': 'General course-related questions',\n",
       "  'question': 'Course - Can I follow the course after it finishes?',\n",
       "  'course': 'data-engineering-zoomcamp'},\n",
       " {'text': 'You can start by installing and setting up all the dependencies and requirements:\\nGoogle cloud account\\nGoogle Cloud SDK\\nPython 3 (installed with Anaconda)\\nTerraform\\nGit\\nLook over the prerequisites and syllabus to see if you are comfortable with these subjects.',\n",
       "  'section': 'General course-related questions',\n",
       "  'question': 'Course - What can I do before the course starts?',\n",
       "  'course': 'data-engineering-zoomcamp'},\n",
       " {'text': 'Star the repo! Share it with friends if you find it useful ❣️\\nCreate a PR if you see you can improve the text or the structure of the repository.',\n",
       "  'section': 'General course-related questions',\n",
       "  'question': 'How can we contribute to the course?',\n",
       "  'course': 'data-engineering-zoomcamp'}]"
      ]
     },
     "execution_count": 21,
     "metadata": {},
     "output_type": "execute_result"
    }
   ],
   "source": [
    "results"
   ]
  },
  {
   "cell_type": "markdown",
   "id": "f481f442-4c35-4513-ac22-5f5dde224cd4",
   "metadata": {},
   "source": [
    "from openai import OpenAI"
   ]
  },
  {
   "cell_type": "code",
   "execution_count": 26,
   "id": "99545a5c-3745-484f-80ca-a74816358458",
   "metadata": {},
   "outputs": [],
   "source": [
    "from openai import OpenAI\n",
    "import os"
   ]
  },
  {
   "cell_type": "code",
   "execution_count": 40,
   "id": "6eabcced-3074-4795-8460-4f66ef52e8cc",
   "metadata": {},
   "outputs": [],
   "source": [
    "client=OpenAI()"
   ]
  },
  {
   "cell_type": "code",
   "execution_count": 42,
   "id": "89e50018-8fa6-4d77-89de-c7be01582810",
   "metadata": {},
   "outputs": [
    {
     "data": {
      "text/plain": [
       "ChatCompletion(id='chatcmpl-BhcPkOaiGK89cDYgAuTni0wzc5UDD', choices=[Choice(finish_reason='stop', index=0, logprobs=None, message=ChatCompletionMessage(content=\"If the course has already started, whether you can still join depends on several factors, including the course's policies, its format, and how far into the course it is. Here are some steps you can take:\\n\\n1. **Contact the Instructor or Administration**: Reach out to the instructor or the administrative office associated with the course. They can provide specific information about late enrollment policies.\\n\\n2. **Check Online Platforms**: If the course is offered online, check the course platform for any information regarding late registration or enrollment deadlines.\\n\\n3. **Assess Flexibility**: Some courses, especially those that are self-paced or online, may allow late enrollments since they offer more flexibility in terms of scheduling.\\n\\n4. **Catch Up on Missed Content**: If joining late is possible, inquire about how you can catch up on missed lectures, assignments, or materials.\\n\\n5. **Understand the Impact**: Consider how joining late might affect your learning experience and ability to keep up with the course material.\\n\\nIt's best to act quickly to make any necessary arrangements if you decide to join.\", refusal=None, role='assistant', annotations=[], audio=None, function_call=None, tool_calls=None))], created=1749735468, model='gpt-4o-2024-08-06', object='chat.completion', service_tier='default', system_fingerprint='fp_07871e2ad8', usage=CompletionUsage(completion_tokens=217, prompt_tokens=16, total_tokens=233, completion_tokens_details=CompletionTokensDetails(accepted_prediction_tokens=0, audio_tokens=0, reasoning_tokens=0, rejected_prediction_tokens=0), prompt_tokens_details=PromptTokensDetails(audio_tokens=0, cached_tokens=0)))"
      ]
     },
     "execution_count": 42,
     "metadata": {},
     "output_type": "execute_result"
    }
   ],
   "source": [
    "response = client.chat.completions.create(\n",
    "    model=\"gpt-4o\",\n",
    "    messages=[{'role':'user','content':q}]\n",
    ")\n",
    "response"
   ]
  },
  {
   "cell_type": "code",
   "execution_count": 44,
   "id": "b3a0cc71-d132-4e86-8438-cab85ad90feb",
   "metadata": {},
   "outputs": [
    {
     "data": {
      "text/plain": [
       "\"If the course has already started, whether you can still join depends on several factors, including the course's policies, its format, and how far into the course it is. Here are some steps you can take:\\n\\n1. **Contact the Instructor or Administration**: Reach out to the instructor or the administrative office associated with the course. They can provide specific information about late enrollment policies.\\n\\n2. **Check Online Platforms**: If the course is offered online, check the course platform for any information regarding late registration or enrollment deadlines.\\n\\n3. **Assess Flexibility**: Some courses, especially those that are self-paced or online, may allow late enrollments since they offer more flexibility in terms of scheduling.\\n\\n4. **Catch Up on Missed Content**: If joining late is possible, inquire about how you can catch up on missed lectures, assignments, or materials.\\n\\n5. **Understand the Impact**: Consider how joining late might affect your learning experience and ability to keep up with the course material.\\n\\nIt's best to act quickly to make any necessary arrangements if you decide to join.\""
      ]
     },
     "execution_count": 44,
     "metadata": {},
     "output_type": "execute_result"
    }
   ],
   "source": [
    "response.choices[0].message.content"
   ]
  },
  {
   "cell_type": "code",
   "execution_count": 48,
   "id": "ef82435e-d978-4ff9-82e1-f2ad239148df",
   "metadata": {},
   "outputs": [],
   "source": [
    "prompt_template=\"\"\"\n",
    "You're a course teaching assistant. Answer the QUESTION based on the CONTEXT from the FAQ database. \n",
    "Use only the facts from the CONTEXT when answering the QUESTION.\n",
    "If the CONTEXT does not contain the answer, output NONE\n",
    "\n",
    "QUESTION: {question}\n",
    "\n",
    "CONTEXT: {context}\n",
    "\"\"\".strip()\n",
    "context=\"\"\n",
    "for doc in results:\n",
    "    context+=f\"section:{doc['section']}\\nquestion:{doc['question']}\\nanswer:{doc['text']}\\n\\n\"\n",
    "prompt=prompt_template.format(question=q,context=context)"
   ]
  },
  {
   "cell_type": "code",
   "execution_count": 52,
   "id": "4fa8fed5-d636-42e2-b732-2d2770df5c6e",
   "metadata": {},
   "outputs": [
    {
     "name": "stdout",
     "output_type": "stream",
     "text": [
      "You're a course teaching assistant. Answer the QUESTION based on the CONTEXT from the FAQ database. \n",
      "Use only the facts from the CONTEXT when answering the QUESTION.\n",
      "If the CONTEXT does not contain the answer, output NONE\n",
      "\n",
      "QUESTION: course already started, can i still join?\n",
      "\n",
      "CONTEXT: section:General course-related questions\n",
      "question:Course - Can I still join the course after the start date?\n",
      "answer:Yes, even if you don't register, you're still eligible to submit the homeworks.\n",
      "Be aware, however, that there will be deadlines for turning in the final projects. So don't leave everything for the last minute.\n",
      "\n",
      "section:General course-related questions\n",
      "question:Course - When will the course start?\n",
      "answer:The purpose of this document is to capture frequently asked technical questions\n",
      "The exact day and hour of the course will be 15th Jan 2024 at 17h00. The course will start with the first  “Office Hours'' live.1\n",
      "Subscribe to course public Google Calendar (it works from Desktop only).\n",
      "Register before the course starts using this link.\n",
      "Join the course Telegram channel with announcements.\n",
      "Don’t forget to register in DataTalks.Club's Slack and join the channel.\n",
      "\n",
      "section:General course-related questions\n",
      "question:Course - Can I follow the course after it finishes?\n",
      "answer:Yes, we will keep all the materials after the course finishes, so you can follow the course at your own pace after it finishes.\n",
      "You can also continue looking at the homeworks and continue preparing for the next cohort. I guess you can also start working on your final capstone project.\n",
      "\n",
      "section:General course-related questions\n",
      "question:Course - What can I do before the course starts?\n",
      "answer:You can start by installing and setting up all the dependencies and requirements:\n",
      "Google cloud account\n",
      "Google Cloud SDK\n",
      "Python 3 (installed with Anaconda)\n",
      "Terraform\n",
      "Git\n",
      "Look over the prerequisites and syllabus to see if you are comfortable with these subjects.\n",
      "\n",
      "section:General course-related questions\n",
      "question:How can we contribute to the course?\n",
      "answer:Star the repo! Share it with friends if you find it useful ❣️\n",
      "Create a PR if you see you can improve the text or the structure of the repository.\n",
      "\n",
      "\n"
     ]
    }
   ],
   "source": [
    "print(prompt)"
   ]
  },
  {
   "cell_type": "code",
   "execution_count": 54,
   "id": "9463d2f9-fe3e-40db-8551-899637d44333",
   "metadata": {},
   "outputs": [
    {
     "ename": "AttributeError",
     "evalue": "'ChatCompletion' object has no attribute 'choice'",
     "output_type": "error",
     "traceback": [
      "\u001b[31m---------------------------------------------------------------------------\u001b[39m",
      "\u001b[31mAttributeError\u001b[39m                            Traceback (most recent call last)",
      "\u001b[36mCell\u001b[39m\u001b[36m \u001b[39m\u001b[32mIn[54]\u001b[39m\u001b[32m, line 5\u001b[39m\n\u001b[32m      1\u001b[39m response = client.chat.completions.create(\n\u001b[32m      2\u001b[39m     model=\u001b[33m\"\u001b[39m\u001b[33mgpt-4o\u001b[39m\u001b[33m\"\u001b[39m,\n\u001b[32m      3\u001b[39m     messages=[{\u001b[33m'\u001b[39m\u001b[33mrole\u001b[39m\u001b[33m'\u001b[39m:\u001b[33m'\u001b[39m\u001b[33muser\u001b[39m\u001b[33m'\u001b[39m,\u001b[33m'\u001b[39m\u001b[33mcontent\u001b[39m\u001b[33m'\u001b[39m:prompt}]\n\u001b[32m      4\u001b[39m )\n\u001b[32m----> \u001b[39m\u001b[32m5\u001b[39m \u001b[43mresponse\u001b[49m\u001b[43m.\u001b[49m\u001b[43mchoice\u001b[49m[\u001b[32m0\u001b[39m].message.text\n",
      "\u001b[36mFile \u001b[39m\u001b[32m~/miniconda3/lib/python3.12/site-packages/pydantic/main.py:892\u001b[39m, in \u001b[36mBaseModel.__getattr__\u001b[39m\u001b[34m(self, item)\u001b[39m\n\u001b[32m    889\u001b[39m     \u001b[38;5;28;01mreturn\u001b[39;00m \u001b[38;5;28msuper\u001b[39m().\u001b[34m__getattribute__\u001b[39m(item)  \u001b[38;5;66;03m# Raises AttributeError if appropriate\u001b[39;00m\n\u001b[32m    890\u001b[39m \u001b[38;5;28;01melse\u001b[39;00m:\n\u001b[32m    891\u001b[39m     \u001b[38;5;66;03m# this is the current error\u001b[39;00m\n\u001b[32m--> \u001b[39m\u001b[32m892\u001b[39m     \u001b[38;5;28;01mraise\u001b[39;00m \u001b[38;5;167;01mAttributeError\u001b[39;00m(\u001b[33mf\u001b[39m\u001b[33m'\u001b[39m\u001b[38;5;132;01m{\u001b[39;00m\u001b[38;5;28mtype\u001b[39m(\u001b[38;5;28mself\u001b[39m).\u001b[34m__name__\u001b[39m\u001b[38;5;132;01m!r}\u001b[39;00m\u001b[33m object has no attribute \u001b[39m\u001b[38;5;132;01m{\u001b[39;00mitem\u001b[38;5;132;01m!r}\u001b[39;00m\u001b[33m'\u001b[39m)\n",
      "\u001b[31mAttributeError\u001b[39m: 'ChatCompletion' object has no attribute 'choice'"
     ]
    }
   ],
   "source": [
    "response = client.chat.completions.create(\n",
    "    model=\"gpt-4o\",\n",
    "    messages=[{'role':'user','content':prompt}]\n",
    ")"
   ]
  },
  {
   "cell_type": "code",
   "execution_count": 57,
   "id": "e2bf440c-1248-4289-92f2-2120acf8e373",
   "metadata": {},
   "outputs": [
    {
     "data": {
      "text/plain": [
       "'Yes, even if the course has already started, you can still join and are eligible to submit the homeworks. However, be aware of the deadlines for turning in the final projects.'"
      ]
     },
     "execution_count": 57,
     "metadata": {},
     "output_type": "execute_result"
    }
   ],
   "source": [
    "response.choices[0].message.content"
   ]
  },
  {
   "cell_type": "code",
   "execution_count": 62,
   "id": "5f5d31b5-d486-4716-8c23-8b4789ad68e5",
   "metadata": {},
   "outputs": [],
   "source": [
    "import minsearch\n",
    "from openai import OpenAI\n",
    "\n",
    "client=OpenAI()\n",
    "\n",
    "def search(question):\n",
    "    index = minsearch.Index(\n",
    "        text_fields=['question','text','section'],\n",
    "        keyword_fields=['course']\n",
    "    )\n",
    "    index.fit(documents)\n",
    "    boost={'question':3, 'section':0.5}\n",
    "\n",
    "    results=index.search(\n",
    "        query=question,\n",
    "        boost_dict=boost,\n",
    "        num_results=5,\n",
    "        filter_dict={'course':'data-engineering-zoomcamp'}\n",
    "    )\n",
    "    return results"
   ]
  },
  {
   "cell_type": "code",
   "execution_count": 63,
   "id": "ecbde8f0-bf23-4ed3-80a8-18b8cbacab27",
   "metadata": {
    "scrolled": true
   },
   "outputs": [],
   "source": [
    "query = 'How I run Kafka?'\n",
    "search_results = search(query)"
   ]
  },
  {
   "cell_type": "code",
   "execution_count": 38,
   "id": "74fd5510-bc4d-45cf-8566-43aaf7c144eb",
   "metadata": {},
   "outputs": [],
   "source": [
    "def build_prompt(query, search_results):\n",
    "    prompt_template = \"\"\"\n",
    "        You're a course teaching assistant. Answer the QUESTION based on the CONTEXT from the FAQ database. \n",
    "        Use only the facts from the CONTEXT when answering the QUESTION.\n",
    "        \n",
    "        QUESTION: {question}\n",
    "        \n",
    "        CONTEXT: \n",
    "        {context}\n",
    "        \"\"\".strip()\n",
    "    \n",
    "    context=\"\"\n",
    "    for doc in search_results:\n",
    "        context+=f\"section: {doc['section']}\\nquestion: {doc['question']}\\nanswer: {doc['text']}\\n\\n\"\n",
    "    prompt=prompt_template.format(question=query,context=context)\n",
    "    return prompt"
   ]
  },
  {
   "cell_type": "code",
   "execution_count": 39,
   "id": "a6182821-cd52-40f8-b60f-4859073b1e0a",
   "metadata": {},
   "outputs": [],
   "source": [
    "def llm(prompt):\n",
    "    response = client.chat.completions.create(\n",
    "        model='gpt-4o',\n",
    "        messages=[{'role':'user','content':prompt}]\n",
    "    )\n",
    "    return response.choices[0].message.content"
   ]
  },
  {
   "cell_type": "code",
   "execution_count": 78,
   "id": "db49dc5f-27c7-4407-a13d-eef5220176b1",
   "metadata": {},
   "outputs": [],
   "source": [
    "query='how do I run Kafka?'\n",
    "def rag(query):\n",
    "    search_results=search(query)\n",
    "    prompt=build_prompt(query,search_results)\n",
    "    response=llm(prompt)\n",
    "    return response"
   ]
  },
  {
   "cell_type": "code",
   "execution_count": 79,
   "id": "b6f0cf8f-e337-4691-88ea-ab869e4d40e6",
   "metadata": {},
   "outputs": [
    {
     "data": {
      "text/plain": [
       "\"Yes, you can still join the course even after it has started. You are eligible to submit the homework, but keep in mind that there are deadlines for submitting the final projects, so it's best not to leave everything to the last minute.\""
      ]
     },
     "execution_count": 79,
     "metadata": {},
     "output_type": "execute_result"
    }
   ],
   "source": [
    "rag('the course already started, can I still join?')"
   ]
  },
  {
   "cell_type": "code",
   "execution_count": 11,
   "id": "c54a6b85-a4ba-47cb-934d-dcc49ad1376f",
   "metadata": {},
   "outputs": [],
   "source": [
    "from elasticsearch import Elasticsearch"
   ]
  },
  {
   "cell_type": "code",
   "execution_count": 12,
   "id": "0ef34325-8f0a-4324-b2d3-d903474b5024",
   "metadata": {},
   "outputs": [],
   "source": [
    "es_client=Elasticsearch('http://localhost:9200')"
   ]
  },
  {
   "cell_type": "code",
   "execution_count": 13,
   "id": "33da20ad-3154-4395-8124-8966564be8dd",
   "metadata": {},
   "outputs": [
    {
     "data": {
      "text/plain": [
       "ObjectApiResponse({'name': '3d9c0716ed30', 'cluster_name': 'docker-cluster', 'cluster_uuid': '97nHsS8VQDKrjFivYErthg', 'version': {'number': '9.0.1', 'build_flavor': 'default', 'build_type': 'docker', 'build_hash': '73f7594ea00db50aa7e941e151a5b3985f01e364', 'build_date': '2025-04-30T10:07:41.393025990Z', 'build_snapshot': False, 'lucene_version': '10.1.0', 'minimum_wire_compatibility_version': '8.18.0', 'minimum_index_compatibility_version': '8.0.0'}, 'tagline': 'You Know, for Search'})"
      ]
     },
     "execution_count": 13,
     "metadata": {},
     "output_type": "execute_result"
    }
   ],
   "source": [
    "es_client.info()"
   ]
  },
  {
   "cell_type": "code",
   "execution_count": 15,
   "id": "6eff596f-c319-4024-a464-32862f305c8f",
   "metadata": {},
   "outputs": [],
   "source": [
    "index_settings={\n",
    "    \"settings\": {\n",
    "        \"number_of_shards\": 1,\n",
    "        \"number_of_replicas\": 0\n",
    "    },\n",
    "    \"mappings\": {\n",
    "        \"properties\": {\n",
    "            \"text\": {\"type\": \"text\"},\n",
    "            \"section\": {\"type\": \"text\"},\n",
    "            \"question\": {\"type\": \"text\"},\n",
    "            \"course\": {\"type\": \"keyword\"} \n",
    "        }\n",
    "    }\n",
    "}\n",
    "\n",
    "index_name='course-questions'"
   ]
  },
  {
   "cell_type": "code",
   "execution_count": 16,
   "id": "9fdbd0e5-dba6-4766-9166-e9df43e7c03e",
   "metadata": {},
   "outputs": [
    {
     "data": {
      "text/plain": [
       "ObjectApiResponse({'acknowledged': True, 'shards_acknowledged': True, 'index': 'course-questions'})"
      ]
     },
     "execution_count": 16,
     "metadata": {},
     "output_type": "execute_result"
    }
   ],
   "source": [
    "es_client.indices.create(index=index_name, body=index_settings)"
   ]
  },
  {
   "cell_type": "code",
   "execution_count": 17,
   "id": "2f7ae428-ac7d-43d4-ad4b-e3706201e85d",
   "metadata": {},
   "outputs": [],
   "source": [
    "from tqdm.auto import tqdm"
   ]
  },
  {
   "cell_type": "code",
   "execution_count": 18,
   "id": "45cd8efc-d730-4537-97f5-b9c8a30eb525",
   "metadata": {},
   "outputs": [],
   "source": [
    "import json\n",
    "with open('documents.json','rt') as f_in:\n",
    "    docs_raw=json.load(f_in)\n",
    "\n",
    "documents=[]\n",
    "for course_dic in docs_raw:\n",
    "    for doc in course_dic['documents']:\n",
    "        doc['course']=course_dic['course']\n",
    "        documents.append(doc)"
   ]
  },
  {
   "cell_type": "code",
   "execution_count": 19,
   "id": "46428305-02c1-4eb8-8194-9514ce1f76c6",
   "metadata": {},
   "outputs": [
    {
     "data": {
      "application/vnd.jupyter.widget-view+json": {
       "model_id": "03a8a573980248e391482d0adec704e7",
       "version_major": 2,
       "version_minor": 0
      },
      "text/plain": [
       "  0%|          | 0/948 [00:00<?, ?it/s]"
      ]
     },
     "metadata": {},
     "output_type": "display_data"
    }
   ],
   "source": [
    "for doc in tqdm(documents):\n",
    "    es_client.index(index=index_name, document=doc)"
   ]
  },
  {
   "cell_type": "code",
   "execution_count": 36,
   "id": "5c2f0c36-6902-4422-b970-494e51a245d3",
   "metadata": {},
   "outputs": [],
   "source": [
    "query=\"I have just discovered the course, Can I join it?\"\n",
    "def elastic_search(query):\n",
    "    search_query={\n",
    "        \"size\": 5,\n",
    "        \"query\": {\n",
    "            \"bool\": {\n",
    "                \"must\": {\n",
    "                    \"multi_match\": {\n",
    "                        \"query\": query,\n",
    "                        \"fields\": [\"question^3\", \"text\", \"section\"],\n",
    "                        \"type\": \"best_fields\"\n",
    "                    }\n",
    "                },\n",
    "                \"filter\": {\n",
    "                    \"term\": {\n",
    "                        \"course\": \"data-engineering-zoomcamp\"\n",
    "                    }\n",
    "                }\n",
    "            }\n",
    "        }\n",
    "    }\n",
    "    \n",
    "    response=es_client.search(index=index_name, body=search_query)\n",
    "    results=[]\n",
    "    for text in response['hits']['hits']:\n",
    "        results.append(text['_source'])\n",
    "    return results"
   ]
  },
  {
   "cell_type": "code",
   "execution_count": 37,
   "id": "270bd7df-07de-40ae-841f-951e06778038",
   "metadata": {},
   "outputs": [
    {
     "data": {
      "text/plain": [
       "[{'text': \"Yes, even if you don't register, you're still eligible to submit the homeworks.\\nBe aware, however, that there will be deadlines for turning in the final projects. So don't leave everything for the last minute.\",\n",
       "  'section': 'General course-related questions',\n",
       "  'question': 'Course - Can I still join the course after the start date?',\n",
       "  'course': 'data-engineering-zoomcamp'},\n",
       " {'text': 'Yes, we will keep all the materials after the course finishes, so you can follow the course at your own pace after it finishes.\\nYou can also continue looking at the homeworks and continue preparing for the next cohort. I guess you can also start working on your final capstone project.',\n",
       "  'section': 'General course-related questions',\n",
       "  'question': 'Course - Can I follow the course after it finishes?',\n",
       "  'course': 'data-engineering-zoomcamp'},\n",
       " {'text': \"You don't need it. You're accepted. You can also just start learning and submitting homework without registering. It is not checked against any registered list. Registration is just to gauge interest before the start date.\",\n",
       "  'section': 'General course-related questions',\n",
       "  'question': 'Course - I have registered for the Data Engineering Bootcamp. When can I expect to receive the confirmation email?',\n",
       "  'course': 'data-engineering-zoomcamp'},\n",
       " {'text': 'You can start by installing and setting up all the dependencies and requirements:\\nGoogle cloud account\\nGoogle Cloud SDK\\nPython 3 (installed with Anaconda)\\nTerraform\\nGit\\nLook over the prerequisites and syllabus to see if you are comfortable with these subjects.',\n",
       "  'section': 'General course-related questions',\n",
       "  'question': 'Course - What can I do before the course starts?',\n",
       "  'course': 'data-engineering-zoomcamp'},\n",
       " {'text': 'Yes, the slack channel remains open and you can ask questions there. But always sDocker containers exit code w search the channel first and second, check the FAQ (this document), most likely all your questions are already answered here.\\nYou can also tag the bot @ZoomcampQABot to help you conduct the search, but don’t rely on its answers 100%, it is pretty good though.',\n",
       "  'section': 'General course-related questions',\n",
       "  'question': 'Course - Can I get support if I take the course in the self-paced mode?',\n",
       "  'course': 'data-engineering-zoomcamp'}]"
      ]
     },
     "execution_count": 37,
     "metadata": {},
     "output_type": "execute_result"
    }
   ],
   "source": [
    "elastic_search(query)"
   ]
  },
  {
   "cell_type": "code",
   "execution_count": 45,
   "id": "53e3305b-7985-4222-943d-459c7f48a66b",
   "metadata": {},
   "outputs": [],
   "source": [
    "from openai import OpenAI\n",
    "import os\n",
    "client=OpenAI()\n",
    "query='how do I run Kafka?'\n",
    "def rag(query):\n",
    "    search_results=elastic_search(query)\n",
    "    prompt=build_prompt(query,search_results)\n",
    "    response=llm(prompt)\n",
    "    return response"
   ]
  },
  {
   "cell_type": "code",
   "execution_count": 46,
   "id": "ad1ed803-a151-495e-87bf-8eb64670c95f",
   "metadata": {},
   "outputs": [
    {
     "data": {
      "text/plain": [
       "'To run Kafka, you can execute the following command in the terminal from your project directory for running a Java Kafka Producer:\\n\\n```bash\\njava -cp build/libs/<jar_name>-1.0-SNAPSHOT.jar:out src/main/java/org/example/JsonProducer.java\\n```\\n\\nReplace `<jar_name>` with the actual name of the jar file in your setup. This command assumes that you have already built your project and have the necessary jar files available in the specified directory.'"
      ]
     },
     "execution_count": 46,
     "metadata": {},
     "output_type": "execute_result"
    }
   ],
   "source": [
    "rag(query)"
   ]
  }
 ],
 "metadata": {
  "kernelspec": {
   "display_name": "Python 3 (ipykernel)",
   "language": "python",
   "name": "python3"
  },
  "language_info": {
   "codemirror_mode": {
    "name": "ipython",
    "version": 3
   },
   "file_extension": ".py",
   "mimetype": "text/x-python",
   "name": "python",
   "nbconvert_exporter": "python",
   "pygments_lexer": "ipython3",
   "version": "3.12.9"
  }
 },
 "nbformat": 4,
 "nbformat_minor": 5
}
