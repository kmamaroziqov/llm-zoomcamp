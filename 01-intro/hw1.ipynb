{
 "cells": [
  {
   "cell_type": "code",
   "execution_count": 60,
   "id": "393a8490-c488-4a8b-869b-0dbf7c409150",
   "metadata": {},
   "outputs": [],
   "source": [
    "from openai import OpenAI\n",
    "import os\n",
    "from elasticsearch import Elasticsearch\n",
    "import json\n",
    "import requests\n",
    "from tqdm.auto import tqdm\n",
    "import tiktoken"
   ]
  },
  {
   "cell_type": "code",
   "execution_count": 4,
   "id": "226ff144-421f-46e5-9d95-f160e9a8e01d",
   "metadata": {},
   "outputs": [],
   "source": [
    "client=OpenAI()"
   ]
  },
  {
   "cell_type": "markdown",
   "id": "9ea79381-a5c1-4b34-a195-ac39297090e6",
   "metadata": {},
   "source": [
    "### Q1"
   ]
  },
  {
   "cell_type": "code",
   "execution_count": 6,
   "id": "3a0fb229-e881-4e8a-a34f-eedb3c832f3a",
   "metadata": {},
   "outputs": [
    {
     "name": "stdout",
     "output_type": "stream",
     "text": [
      "{\n",
      "  \"name\" : \"3d9c0716ed30\",\n",
      "  \"cluster_name\" : \"docker-cluster\",\n",
      "  \"cluster_uuid\" : \"97nHsS8VQDKrjFivYErthg\",\n",
      "  \"version\" : {\n",
      "    \"number\" : \"9.0.1\",\n",
      "    \"build_flavor\" : \"default\",\n",
      "    \"build_type\" : \"docker\",\n",
      "    \"build_hash\" : \"73f7594ea00db50aa7e941e151a5b3985f01e364\",\n",
      "    \"build_date\" : \"2025-04-30T10:07:41.393025990Z\",\n",
      "    \"build_snapshot\" : false,\n",
      "    \"lucene_version\" : \"10.1.0\",\n",
      "    \"minimum_wire_compatibility_version\" : \"8.18.0\",\n",
      "    \"minimum_index_compatibility_version\" : \"8.0.0\"\n",
      "  },\n",
      "  \"tagline\" : \"You Know, for Search\"\n",
      "}\n"
     ]
    }
   ],
   "source": [
    "!curl localhost:9200"
   ]
  },
  {
   "cell_type": "code",
   "execution_count": 5,
   "id": "ff9a1acb-b9ce-4efd-b7df-b04a71967077",
   "metadata": {},
   "outputs": [],
   "source": [
    "docs_url = 'https://github.com/DataTalksClub/llm-zoomcamp/blob/main/01-intro/documents.json?raw=1'\n",
    "docs_response = requests.get(docs_url)\n",
    "documents_raw = docs_response.json()\n",
    "\n",
    "documents = []\n",
    "\n",
    "for course in documents_raw:\n",
    "    course_name = course['course']\n",
    "\n",
    "    for doc in course['documents']:\n",
    "        doc['course'] = course_name\n",
    "        documents.append(doc)"
   ]
  },
  {
   "cell_type": "markdown",
   "id": "f5d7e3ca-29c6-487e-b178-5066d3f17fa2",
   "metadata": {},
   "source": [
    "### Q2"
   ]
  },
  {
   "cell_type": "code",
   "execution_count": 11,
   "id": "fd8aee7e-9269-40a0-b296-180221d29523",
   "metadata": {},
   "outputs": [],
   "source": [
    "es_client=Elasticsearch('http://localhost:9200')"
   ]
  },
  {
   "cell_type": "code",
   "execution_count": 15,
   "id": "a5c50019-ac61-45b4-a3a2-62c632328c67",
   "metadata": {},
   "outputs": [],
   "source": [
    "index_settings=index_settings={\n",
    "    \"settings\": {\n",
    "        \"number_of_shards\": 1,\n",
    "        \"number_of_replicas\": 0\n",
    "    },\n",
    "    \"mappings\": {\n",
    "        \"properties\": {\n",
    "            \"text\": {\"type\": \"text\"},\n",
    "            \"section\": {\"type\": \"text\"},\n",
    "            \"question\": {\"type\": \"text\"},\n",
    "            \"course\": {\"type\": \"keyword\"} \n",
    "        }\n",
    "    }\n",
    "}\n",
    "index_name='course-question-homework'"
   ]
  },
  {
   "cell_type": "code",
   "execution_count": 16,
   "id": "84e9c68c-e0de-449e-8cf7-3075b20fa374",
   "metadata": {},
   "outputs": [
    {
     "data": {
      "text/plain": [
       "ObjectApiResponse({'acknowledged': True, 'shards_acknowledged': True, 'index': 'course-question-homework'})"
      ]
     },
     "execution_count": 16,
     "metadata": {},
     "output_type": "execute_result"
    }
   ],
   "source": [
    "es_client.indices.create(index=index_name, body=index_settings)"
   ]
  },
  {
   "cell_type": "code",
   "execution_count": 18,
   "id": "43820b94-9d82-4bf0-9376-66dffa30fdcd",
   "metadata": {},
   "outputs": [
    {
     "data": {
      "application/vnd.jupyter.widget-view+json": {
       "model_id": "37731992ad594d38a59261e8ad212bbf",
       "version_major": 2,
       "version_minor": 0
      },
      "text/plain": [
       "  0%|          | 0/948 [00:00<?, ?it/s]"
      ]
     },
     "metadata": {},
     "output_type": "display_data"
    }
   ],
   "source": [
    "for doc in tqdm(documents):\n",
    "    es_client.index(index=index_name, document=doc)"
   ]
  },
  {
   "cell_type": "markdown",
   "id": "26d15613-6791-4d6f-8ff5-306dbee888f1",
   "metadata": {},
   "source": [
    "### Q3"
   ]
  },
  {
   "cell_type": "code",
   "execution_count": 43,
   "id": "3c557a47-a29f-4aa4-a4c7-c3342583c961",
   "metadata": {
    "scrolled": true
   },
   "outputs": [
    {
     "data": {
      "text/plain": [
       "[44.50556, 35.433445, 33.70974, 33.2635, 32.589073]"
      ]
     },
     "execution_count": 43,
     "metadata": {},
     "output_type": "execute_result"
    }
   ],
   "source": [
    "query=\"How do execute a command on a Kubernetes pod?\"\n",
    "def elastic_search(query):\n",
    "    search_query={\n",
    "        \"size\": 5,\n",
    "        \"query\": {\n",
    "            \"bool\": {\n",
    "                \"must\": {\n",
    "                    \"multi_match\": {\n",
    "                        \"query\": query,\n",
    "                        \"fields\": [\"question^4\", \"text\"],\n",
    "                        \"type\": \"best_fields\"\n",
    "                    }\n",
    "                }\n",
    "            }\n",
    "        }\n",
    "    }\n",
    "    response=es_client.search(index=index_name, body=search_query)\n",
    "    results=[]\n",
    "    for text in response[\"hits\"]['hits']:\n",
    "        results.append(text['_score'])\n",
    "    return results\n",
    "elastic_search(query)"
   ]
  },
  {
   "cell_type": "markdown",
   "id": "a464fece-e2c4-44b4-9ab4-e0fd15d23fc4",
   "metadata": {},
   "source": [
    "### Q4"
   ]
  },
  {
   "cell_type": "code",
   "execution_count": 49,
   "id": "2276e238-8ccf-46ca-9526-5722480c1f77",
   "metadata": {},
   "outputs": [
    {
     "data": {
      "text/plain": [
       "[{'text': 'Launch the container image in interactive mode and overriding the entrypoint, so that it starts a bash command.\\ndocker run -it --entrypoint bash <image>\\nIf the container is already running, execute a command in the specific container:\\ndocker ps (find the container-id)\\ndocker exec -it <container-id> bash\\n(Marcos MJD)',\n",
       "  'section': '5. Deploying Machine Learning Models',\n",
       "  'question': 'How do I debug a docker container?',\n",
       "  'course': 'machine-learning-zoomcamp'},\n",
       " {'text': \"You can copy files from your local machine into a Docker container using the docker cp command. Here's how to do it:\\nTo copy a file or directory from your local machine into a running Docker container, you can use the `docker cp command`. The basic syntax is as follows:\\ndocker cp /path/to/local/file_or_directory container_id:/path/in/container\\nHrithik Kumar Advani\",\n",
       "  'section': '5. Deploying Machine Learning Models',\n",
       "  'question': 'How do I copy files from my local machine to docker container?',\n",
       "  'course': 'machine-learning-zoomcamp'},\n",
       " {'text': 'You can copy files from your local machine into a Docker container using the docker cp command. Here\\'s how to do it:\\nIn the Dockerfile, you can provide the folder containing the files that you want to copy over. The basic syntax is as follows:\\nCOPY [\"src/predict.py\", \"models/xgb_model.bin\", \"./\"]\\t\\t\\t\\t\\t\\t\\t\\t\\t\\t\\tGopakumar Gopinathan',\n",
       "  'section': '5. Deploying Machine Learning Models',\n",
       "  'question': 'How do I copy files from a different folder into docker container’s working directory?',\n",
       "  'course': 'machine-learning-zoomcamp'}]"
      ]
     },
     "execution_count": 49,
     "metadata": {},
     "output_type": "execute_result"
    }
   ],
   "source": [
    "query=\"How do copy a file to a Docker container?\"\n",
    "def elastic_search(query):\n",
    "    search_query={\n",
    "        \"size\": 3,\n",
    "        \"query\": {\n",
    "            \"bool\": {\n",
    "                \"must\": {\n",
    "                    \"multi_match\": {\n",
    "                        \"query\": query,\n",
    "                        \"fields\": [\"question^4\", \"text\"],\n",
    "                        \"type\": \"best_fields\"\n",
    "                    }\n",
    "                },\n",
    "                \"filter\": {\n",
    "                    'term':{\n",
    "                        'course':'machine-learning-zoomcamp'\n",
    "                    }\n",
    "                }\n",
    "            }\n",
    "        }\n",
    "    }\n",
    "    response=es_client.search(index=index_name, body=search_query)\n",
    "    results=[]\n",
    "    for text in response[\"hits\"]['hits']:\n",
    "        results.append(text['_source'])\n",
    "    return results\n",
    "results=elastic_search(query)\n",
    "results"
   ]
  },
  {
   "cell_type": "markdown",
   "id": "dde61174-33ad-4fc3-925b-1806dee883f4",
   "metadata": {},
   "source": [
    "**Answer:** 'How do I copy files from a different folder into docker container’s working directory?'"
   ]
  },
  {
   "cell_type": "markdown",
   "id": "8d616c94-6871-44fd-a1e1-5a685a7f5ef7",
   "metadata": {},
   "source": [
    "### Q5"
   ]
  },
  {
   "cell_type": "code",
   "execution_count": 57,
   "id": "86fc7bdd-f578-4856-9662-20e8acbd79d7",
   "metadata": {},
   "outputs": [
    {
     "name": "stdout",
     "output_type": "stream",
     "text": [
      "You're a course teaching assistant. Answer the QUESTION based on the CONTEXT from the FAQ database.\n",
      "Use only the facts from the CONTEXT when answering the QUESTION.\n",
      "\n",
      "QUESTION: How do copy a file to a Docker container?\n",
      "\n",
      "CONTEXT:\n",
      "Q: How do I debug a docker container?\n",
      "A: Launch the container image in interactive mode and overriding the entrypoint, so that it starts a bash command.\n",
      "docker run -it --entrypoint bash <image>\n",
      "If the container is already running, execute a command in the specific container:\n",
      "docker ps (find the container-id)\n",
      "docker exec -it <container-id> bash\n",
      "(Marcos MJD)\n",
      "\n",
      "Q: How do I copy files from my local machine to docker container?\n",
      "A: You can copy files from your local machine into a Docker container using the docker cp command. Here's how to do it:\n",
      "To copy a file or directory from your local machine into a running Docker container, you can use the `docker cp command`. The basic syntax is as follows:\n",
      "docker cp /path/to/local/file_or_directory container_id:/path/in/container\n",
      "Hrithik Kumar Advani\n",
      "\n",
      "Q: How do I copy files from a different folder into docker container’s working directory?\n",
      "A: You can copy files from your local machine into a Docker container using the docker cp command. Here's how to do it:\n",
      "In the Dockerfile, you can provide the folder containing the files that you want to copy over. The basic syntax is as follows:\n",
      "COPY [\"src/predict.py\", \"models/xgb_model.bin\", \"./\"]\t\t\t\t\t\t\t\t\t\t\tGopakumar Gopinathan\n"
     ]
    }
   ],
   "source": [
    "context_template = \"\"\"\n",
    "Q: {question}\n",
    "A: {text}\n",
    "\"\"\".strip()\n",
    "context=\"\"\n",
    "for doc in results:\n",
    "    context+='\\n\\n'+context_template.format(question=doc['question'],text=doc['text']) if context else context_template.format(question=doc['question'],text=doc['text'])\n",
    "    \n",
    "prompt_template = \"\"\"\n",
    "You're a course teaching assistant. Answer the QUESTION based on the CONTEXT from the FAQ database.\n",
    "Use only the facts from the CONTEXT when answering the QUESTION.\n",
    "\n",
    "QUESTION: {question}\n",
    "\n",
    "CONTEXT:\n",
    "{context}\n",
    "\"\"\".strip()\n",
    "prompt=prompt_template.format(question=query,context=context)\n",
    "print(prompt)"
   ]
  },
  {
   "cell_type": "code",
   "execution_count": 58,
   "id": "d16aafe3-8629-4551-99f6-2a9f6cee5257",
   "metadata": {},
   "outputs": [
    {
     "data": {
      "text/plain": [
       "1446"
      ]
     },
     "execution_count": 58,
     "metadata": {},
     "output_type": "execute_result"
    }
   ],
   "source": [
    "len(prompt)"
   ]
  },
  {
   "cell_type": "markdown",
   "id": "e45a7cec-f2d8-49ce-bef3-f90e9ba9dba3",
   "metadata": {},
   "source": [
    "### Q6"
   ]
  },
  {
   "cell_type": "code",
   "execution_count": 64,
   "id": "61fc85e8-30c0-4932-bc94-b7281b1ff2c1",
   "metadata": {},
   "outputs": [
    {
     "data": {
      "text/plain": [
       "320"
      ]
     },
     "execution_count": 64,
     "metadata": {},
     "output_type": "execute_result"
    }
   ],
   "source": [
    "encoding = tiktoken.encoding_for_model(\"gpt-4o\")\n",
    "token_ids=encoding.encode(prompt)\n",
    "len(token_ids)"
   ]
  },
  {
   "cell_type": "markdown",
   "id": "f235c5cb-4662-4642-b47d-671c97b4b7a9",
   "metadata": {},
   "source": [
    "**Answer:** 320"
   ]
  },
  {
   "cell_type": "code",
   "execution_count": 67,
   "id": "6276ddb8-b3e4-4372-aa57-3dc17de69fcd",
   "metadata": {},
   "outputs": [
    {
     "name": "stdout",
     "output_type": "stream",
     "text": [
      "b\"You're\"\n",
      "b' a'\n",
      "b' course'\n",
      "b' teaching'\n",
      "b' assistant'\n",
      "b'.'\n",
      "b' Answer'\n",
      "b' the'\n",
      "b' QUESTION'\n",
      "b' based'\n",
      "b' on'\n",
      "b' the'\n",
      "b' CONT'\n",
      "b'EXT'\n",
      "b' from'\n",
      "b' the'\n",
      "b' FAQ'\n",
      "b' database'\n",
      "b'.\\n'\n",
      "b'Use'\n",
      "b' only'\n",
      "b' the'\n",
      "b' facts'\n",
      "b' from'\n",
      "b' the'\n",
      "b' CONT'\n",
      "b'EXT'\n",
      "b' when'\n",
      "b' answering'\n",
      "b' the'\n",
      "b' QUESTION'\n",
      "b'.\\n\\n'\n",
      "b'QUESTION'\n",
      "b':'\n",
      "b' How'\n",
      "b' do'\n",
      "b' copy'\n",
      "b' a'\n",
      "b' file'\n",
      "b' to'\n",
      "b' a'\n",
      "b' Docker'\n",
      "b' container'\n",
      "b'?\\n\\n'\n",
      "b'CON'\n",
      "b'TEXT'\n",
      "b':\\n'\n",
      "b'Q'\n",
      "b':'\n",
      "b' How'\n",
      "b' do'\n",
      "b' I'\n",
      "b' debug'\n",
      "b' a'\n",
      "b' docker'\n",
      "b' container'\n",
      "b'?\\n'\n",
      "b'A'\n",
      "b':'\n",
      "b' Launch'\n",
      "b' the'\n",
      "b' container'\n",
      "b' image'\n",
      "b' in'\n",
      "b' interactive'\n",
      "b' mode'\n",
      "b' and'\n",
      "b' overriding'\n",
      "b' the'\n",
      "b' entry'\n",
      "b'point'\n",
      "b','\n",
      "b' so'\n",
      "b' that'\n",
      "b' it'\n",
      "b' starts'\n",
      "b' a'\n",
      "b' bash'\n",
      "b' command'\n",
      "b'.\\n'\n",
      "b'docker'\n",
      "b' run'\n",
      "b' -'\n",
      "b'it'\n",
      "b' --'\n",
      "b'entry'\n",
      "b'point'\n",
      "b' bash'\n",
      "b' <'\n",
      "b'image'\n",
      "b'>\\n'\n",
      "b'If'\n",
      "b' the'\n",
      "b' container'\n",
      "b' is'\n",
      "b' already'\n",
      "b' running'\n",
      "b','\n",
      "b' execute'\n",
      "b' a'\n",
      "b' command'\n",
      "b' in'\n",
      "b' the'\n",
      "b' specific'\n",
      "b' container'\n",
      "b':\\n'\n",
      "b'docker'\n",
      "b' ps'\n",
      "b' ('\n",
      "b'find'\n",
      "b' the'\n",
      "b' container'\n",
      "b'-id'\n",
      "b')\\n'\n",
      "b'docker'\n",
      "b' exec'\n",
      "b' -'\n",
      "b'it'\n",
      "b' <'\n",
      "b'container'\n",
      "b'-id'\n",
      "b'>'\n",
      "b' bash'\n",
      "b'\\n'\n",
      "b'(M'\n",
      "b'ar'\n",
      "b'cos'\n",
      "b' M'\n",
      "b'JD'\n",
      "b')\\n\\n'\n",
      "b'Q'\n",
      "b':'\n",
      "b' How'\n",
      "b' do'\n",
      "b' I'\n",
      "b' copy'\n",
      "b' files'\n",
      "b' from'\n",
      "b' my'\n",
      "b' local'\n",
      "b' machine'\n",
      "b' to'\n",
      "b' docker'\n",
      "b' container'\n",
      "b'?\\n'\n",
      "b'A'\n",
      "b':'\n",
      "b' You'\n",
      "b' can'\n",
      "b' copy'\n",
      "b' files'\n",
      "b' from'\n",
      "b' your'\n",
      "b' local'\n",
      "b' machine'\n",
      "b' into'\n",
      "b' a'\n",
      "b' Docker'\n",
      "b' container'\n",
      "b' using'\n",
      "b' the'\n",
      "b' docker'\n",
      "b' cp'\n",
      "b' command'\n",
      "b'.'\n",
      "b\" Here's\"\n",
      "b' how'\n",
      "b' to'\n",
      "b' do'\n",
      "b' it'\n",
      "b':\\n'\n",
      "b'To'\n",
      "b' copy'\n",
      "b' a'\n",
      "b' file'\n",
      "b' or'\n",
      "b' directory'\n",
      "b' from'\n",
      "b' your'\n",
      "b' local'\n",
      "b' machine'\n",
      "b' into'\n",
      "b' a'\n",
      "b' running'\n",
      "b' Docker'\n",
      "b' container'\n",
      "b','\n",
      "b' you'\n",
      "b' can'\n",
      "b' use'\n",
      "b' the'\n",
      "b' `'\n",
      "b'docker'\n",
      "b' cp'\n",
      "b' command'\n",
      "b'`.'\n",
      "b' The'\n",
      "b' basic'\n",
      "b' syntax'\n",
      "b' is'\n",
      "b' as'\n",
      "b' follows'\n",
      "b':\\n'\n",
      "b'docker'\n",
      "b' cp'\n",
      "b' /'\n",
      "b'path'\n",
      "b'/to'\n",
      "b'/local'\n",
      "b'/file'\n",
      "b'_or'\n",
      "b'_directory'\n",
      "b' container'\n",
      "b'_id'\n",
      "b':/'\n",
      "b'path'\n",
      "b'/in'\n",
      "b'/container'\n",
      "b'\\n'\n",
      "b'Hr'\n",
      "b'ith'\n",
      "b'ik'\n",
      "b' Kumar'\n",
      "b' Adv'\n",
      "b'ani'\n",
      "b'\\n\\n'\n",
      "b'Q'\n",
      "b':'\n",
      "b' How'\n",
      "b' do'\n",
      "b' I'\n",
      "b' copy'\n",
      "b' files'\n",
      "b' from'\n",
      "b' a'\n",
      "b' different'\n",
      "b' folder'\n",
      "b' into'\n",
      "b' docker'\n",
      "b' container'\n",
      "b'\\xe2\\x80\\x99s'\n",
      "b' working'\n",
      "b' directory'\n",
      "b'?\\n'\n",
      "b'A'\n",
      "b':'\n",
      "b' You'\n",
      "b' can'\n",
      "b' copy'\n",
      "b' files'\n",
      "b' from'\n",
      "b' your'\n",
      "b' local'\n",
      "b' machine'\n",
      "b' into'\n",
      "b' a'\n",
      "b' Docker'\n",
      "b' container'\n",
      "b' using'\n",
      "b' the'\n",
      "b' docker'\n",
      "b' cp'\n",
      "b' command'\n",
      "b'.'\n",
      "b\" Here's\"\n",
      "b' how'\n",
      "b' to'\n",
      "b' do'\n",
      "b' it'\n",
      "b':\\n'\n",
      "b'In'\n",
      "b' the'\n",
      "b' Docker'\n",
      "b'file'\n",
      "b','\n",
      "b' you'\n",
      "b' can'\n",
      "b' provide'\n",
      "b' the'\n",
      "b' folder'\n",
      "b' containing'\n",
      "b' the'\n",
      "b' files'\n",
      "b' that'\n",
      "b' you'\n",
      "b' want'\n",
      "b' to'\n",
      "b' copy'\n",
      "b' over'\n",
      "b'.'\n",
      "b' The'\n",
      "b' basic'\n",
      "b' syntax'\n",
      "b' is'\n",
      "b' as'\n",
      "b' follows'\n",
      "b':\\n'\n",
      "b'COPY'\n",
      "b' [\"'\n",
      "b'src'\n",
      "b'/p'\n",
      "b'redict'\n",
      "b'.py'\n",
      "b'\",'\n",
      "b' \"'\n",
      "b'models'\n",
      "b'/x'\n",
      "b'gb'\n",
      "b'_model'\n",
      "b'.bin'\n",
      "b'\",'\n",
      "b' \"./'\n",
      "b'\"]'\n",
      "b'\\t\\t\\t\\t\\t\\t\\t\\t\\t\\t'\n",
      "b'\\tG'\n",
      "b'opak'\n",
      "b'umar'\n",
      "b' G'\n",
      "b'opin'\n",
      "b'athan'\n"
     ]
    }
   ],
   "source": [
    "for token in token_ids:\n",
    "    print(encoding.decode_single_token_bytes(token))"
   ]
  },
  {
   "cell_type": "code",
   "execution_count": 68,
   "id": "5b34882b-9967-47e6-8a87-3803d2132a0d",
   "metadata": {
    "scrolled": true
   },
   "outputs": [
    {
     "data": {
      "text/plain": [
       "'You\\'re a course teaching assistant. Answer the QUESTION based on the CONTEXT from the FAQ database.\\nUse only the facts from the CONTEXT when answering the QUESTION.\\n\\nQUESTION: How do copy a file to a Docker container?\\n\\nCONTEXT:\\nQ: How do I debug a docker container?\\nA: Launch the container image in interactive mode and overriding the entrypoint, so that it starts a bash command.\\ndocker run -it --entrypoint bash <image>\\nIf the container is already running, execute a command in the specific container:\\ndocker ps (find the container-id)\\ndocker exec -it <container-id> bash\\n(Marcos MJD)\\n\\nQ: How do I copy files from my local machine to docker container?\\nA: You can copy files from your local machine into a Docker container using the docker cp command. Here\\'s how to do it:\\nTo copy a file or directory from your local machine into a running Docker container, you can use the `docker cp command`. The basic syntax is as follows:\\ndocker cp /path/to/local/file_or_directory container_id:/path/in/container\\nHrithik Kumar Advani\\n\\nQ: How do I copy files from a different folder into docker container’s working directory?\\nA: You can copy files from your local machine into a Docker container using the docker cp command. Here\\'s how to do it:\\nIn the Dockerfile, you can provide the folder containing the files that you want to copy over. The basic syntax is as follows:\\nCOPY [\"src/predict.py\", \"models/xgb_model.bin\", \"./\"]\\t\\t\\t\\t\\t\\t\\t\\t\\t\\t\\tGopakumar Gopinathan'"
      ]
     },
     "execution_count": 68,
     "metadata": {},
     "output_type": "execute_result"
    }
   ],
   "source": [
    "encoding.decode(token_ids)"
   ]
  },
  {
   "cell_type": "markdown",
   "id": "e6e9ea8a-2e3a-495b-a78e-c81e6554a392",
   "metadata": {},
   "source": [
    "### Bonus: generating the answer"
   ]
  },
  {
   "cell_type": "code",
   "execution_count": 71,
   "id": "d950b1ff-3fb4-472d-84e5-a8dd42aa4c17",
   "metadata": {},
   "outputs": [
    {
     "data": {
      "text/plain": [
       "'You can copy a file to a Docker container using the `docker cp` command. The basic syntax to copy a file from your local machine to a running Docker container is:\\n\\n```bash\\ndocker cp /path/to/local/file_or_directory container_id:/path/in/container\\n```\\n\\nThis command will transfer the specified file or directory from your local machine to the specified path inside the Docker container.'"
      ]
     },
     "execution_count": 71,
     "metadata": {},
     "output_type": "execute_result"
    }
   ],
   "source": [
    "response=client.chat.completions.create(\n",
    "    model='gpt-4o',\n",
    "    messages=[{'role':'user','content':prompt}]\n",
    ")\n",
    "response.choices[0].message.content"
   ]
  },
  {
   "cell_type": "code",
   "execution_count": 75,
   "id": "1a346e98-dccb-4ac9-9b3e-782322dcc1d9",
   "metadata": {},
   "outputs": [
    {
     "data": {
      "text/plain": [
       "385"
      ]
     },
     "execution_count": 75,
     "metadata": {},
     "output_type": "execute_result"
    }
   ],
   "source": [
    "len(response.choices[0].message.content)"
   ]
  },
  {
   "cell_type": "markdown",
   "id": "456a924a-83f9-4669-bd63-60a9fd06817d",
   "metadata": {},
   "source": [
    "### Bonus: calculating the costs "
   ]
  },
  {
   "cell_type": "code",
   "execution_count": 73,
   "id": "0d2a4627-03c1-4544-85f6-69650ca6c175",
   "metadata": {},
   "outputs": [],
   "source": [
    "output_tokens=150\n",
    "input_tokens=250\n",
    "requests=1000"
   ]
  },
  {
   "cell_type": "code",
   "execution_count": 74,
   "id": "f103d50e-8bd4-4954-b547-ed56d91f9dfe",
   "metadata": {},
   "outputs": [
    {
     "data": {
      "text/plain": [
       "4.25"
      ]
     },
     "execution_count": 74,
     "metadata": {},
     "output_type": "execute_result"
    }
   ],
   "source": [
    "single_cost=input_tokens*5/1000000+output_tokens*20/1000000\n",
    "total_cost=requests*single_cost\n",
    "total_cost"
   ]
  },
  {
   "cell_type": "markdown",
   "id": "120e73ff-7abb-4a38-94bd-af83f16a3523",
   "metadata": {},
   "source": [
    "#### based on my values in Q6 and Q7"
   ]
  },
  {
   "cell_type": "code",
   "execution_count": 76,
   "id": "3b9f4fbb-9176-4248-8c32-a279375ed1d3",
   "metadata": {},
   "outputs": [
    {
     "data": {
      "text/plain": [
       "0.008325"
      ]
     },
     "execution_count": 76,
     "metadata": {},
     "output_type": "execute_result"
    }
   ],
   "source": [
    "output_tokens=320\n",
    "input_tokens=385\n",
    "my_cost=input_tokens*5/1000000+output_tokens*20/1000000\n",
    "my_cost"
   ]
  }
 ],
 "metadata": {
  "kernelspec": {
   "display_name": "Python 3 (ipykernel)",
   "language": "python",
   "name": "python3"
  },
  "language_info": {
   "codemirror_mode": {
    "name": "ipython",
    "version": 3
   },
   "file_extension": ".py",
   "mimetype": "text/x-python",
   "name": "python",
   "nbconvert_exporter": "python",
   "pygments_lexer": "ipython3",
   "version": "3.12.9"
  }
 },
 "nbformat": 4,
 "nbformat_minor": 5
}
